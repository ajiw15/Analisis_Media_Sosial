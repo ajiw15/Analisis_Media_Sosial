{
 "cells": [
  {
   "cell_type": "code",
   "execution_count": 1,
   "id": "50288465",
   "metadata": {},
   "outputs": [],
   "source": [
    "import pandas as pd\n",
    "import re\n",
    "import numpy as np\n",
    "import joblib\n",
    "import pickle\n",
    "from sklearn import model_selection\n",
    "from sklearn.linear_model import LogisticRegression\n",
    "from sklearn.multiclass import OneVsRestClassifier\n",
    "from sklearn.naive_bayes import MultinomialNB\n",
    "from sklearn.metrics import classification_report\n",
    "from sklearn.model_selection import train_test_split\n",
    "from sklearn.feature_extraction.text import CountVectorizer\n",
    "from sklearn.feature_extraction.text import TfidfTransformer\n",
    "from sklearn.pipeline import Pipeline\n",
    "from sklearn.metrics import accuracy_score\n",
    "from sklearn.model_selection import cross_val_score"
   ]
  },
  {
   "cell_type": "code",
   "execution_count": 2,
   "id": "e9cc0b8f",
   "metadata": {},
   "outputs": [],
   "source": [
    "df = pd.read_csv('labeling.csv', sep=';')"
   ]
  },
  {
   "cell_type": "code",
   "execution_count": 3,
   "id": "b0e54b5c",
   "metadata": {},
   "outputs": [],
   "source": [
    "def convert(polarity):\n",
    "    if polarity == 'positif':\n",
    "        return 1\n",
    "    elif polarity == 'netral':\n",
    "        return 0\n",
    "    else :\n",
    "        return -1"
   ]
  },
  {
   "cell_type": "code",
   "execution_count": 4,
   "id": "5f887504",
   "metadata": {},
   "outputs": [],
   "source": [
    "df['polarity'] = df['label'].apply(convert)"
   ]
  },
  {
   "cell_type": "code",
   "execution_count": 5,
   "id": "2b233079",
   "metadata": {},
   "outputs": [
    {
     "data": {
      "text/html": [
       "<div>\n",
       "<style scoped>\n",
       "    .dataframe tbody tr th:only-of-type {\n",
       "        vertical-align: middle;\n",
       "    }\n",
       "\n",
       "    .dataframe tbody tr th {\n",
       "        vertical-align: top;\n",
       "    }\n",
       "\n",
       "    .dataframe thead th {\n",
       "        text-align: right;\n",
       "    }\n",
       "</style>\n",
       "<table border=\"1\" class=\"dataframe\">\n",
       "  <thead>\n",
       "    <tr style=\"text-align: right;\">\n",
       "      <th></th>\n",
       "      <th>id</th>\n",
       "      <th>created_at</th>\n",
       "      <th>text</th>\n",
       "      <th>TEXT.1</th>\n",
       "      <th>TOKENISASI</th>\n",
       "      <th>STOP_REMOVAL</th>\n",
       "      <th>label</th>\n",
       "      <th>polarity</th>\n",
       "    </tr>\n",
       "  </thead>\n",
       "  <tbody>\n",
       "    <tr>\n",
       "      <th>0</th>\n",
       "      <td>1,61655E+18</td>\n",
       "      <td>21/01/2023 04:46</td>\n",
       "      <td>repost divisi humas polri ketua harian kompoln...</td>\n",
       "      <td>Repost Divisi Humas Polri Ketua Harian Kompoln...</td>\n",
       "      <td>['repost', 'divisi', 'humas', 'polri', 'ketua'...</td>\n",
       "      <td>repost divisi humas polri ketua harian kompoln...</td>\n",
       "      <td>positif</td>\n",
       "      <td>1</td>\n",
       "    </tr>\n",
       "    <tr>\n",
       "      <th>1</th>\n",
       "      <td>1,61647E+18</td>\n",
       "      <td>20/01/2023 23:12</td>\n",
       "      <td>ch chotimah2 aniesbaswedan abu waras rahmania...</td>\n",
       "      <td>ch chotimah2 aniesbaswedan abu waras rahmania...</td>\n",
       "      <td>['', 'ch', 'chotimah2', 'aniesbaswedan', 'abu'...</td>\n",
       "      <td>ch chotimah2 aniesbaswedan abu waras rahmania...</td>\n",
       "      <td>negatif</td>\n",
       "      <td>-1</td>\n",
       "    </tr>\n",
       "    <tr>\n",
       "      <th>2</th>\n",
       "      <td>1,61645E+18</td>\n",
       "      <td>20/01/2023 21:42</td>\n",
       "      <td>jokowi kinerja kepolisian blm menunjukan pres...</td>\n",
       "      <td>jokowi Kinerja kepolisian blm menunjukan pres...</td>\n",
       "      <td>['', 'jokowi', 'kinerja', 'kepolisian', 'blm',...</td>\n",
       "      <td>jokowi kinerja kepolisian blm menunjukan pres...</td>\n",
       "      <td>negatif</td>\n",
       "      <td>-1</td>\n",
       "    </tr>\n",
       "    <tr>\n",
       "      <th>3</th>\n",
       "      <td>1,6164E+18</td>\n",
       "      <td>20/01/2023 18:29</td>\n",
       "      <td>kompascom ya itulah tabiat kepolisian di indo...</td>\n",
       "      <td>kompascom Ya Itulah Tabiat kepolisian di Indo...</td>\n",
       "      <td>['', 'kompascom', 'ya', 'itulah', 'tabiat', 'k...</td>\n",
       "      <td>kompascom ya tabiat kepolisian indonesia mala...</td>\n",
       "      <td>negatif</td>\n",
       "      <td>-1</td>\n",
       "    </tr>\n",
       "    <tr>\n",
       "      <th>4</th>\n",
       "      <td>1,61639E+18</td>\n",
       "      <td>20/01/2023 18:05</td>\n",
       "      <td>rt divhumas polri ketua harian kompolnas irjen...</td>\n",
       "      <td>RT DivHumas Polri Ketua Harian Kompolnas Irjen...</td>\n",
       "      <td>['rt', 'divhumas', 'polri', 'ketua', 'harian',...</td>\n",
       "      <td>rt divhumas polri ketua harian kompolnas irjen...</td>\n",
       "      <td>positif</td>\n",
       "      <td>1</td>\n",
       "    </tr>\n",
       "  </tbody>\n",
       "</table>\n",
       "</div>"
      ],
      "text/plain": [
       "            id        created_at  \\\n",
       "0  1,61655E+18  21/01/2023 04:46   \n",
       "1  1,61647E+18  20/01/2023 23:12   \n",
       "2  1,61645E+18  20/01/2023 21:42   \n",
       "3   1,6164E+18  20/01/2023 18:29   \n",
       "4  1,61639E+18  20/01/2023 18:05   \n",
       "\n",
       "                                                text  \\\n",
       "0  repost divisi humas polri ketua harian kompoln...   \n",
       "1   ch chotimah2 aniesbaswedan abu waras rahmania...   \n",
       "2   jokowi kinerja kepolisian blm menunjukan pres...   \n",
       "3   kompascom ya itulah tabiat kepolisian di indo...   \n",
       "4  rt divhumas polri ketua harian kompolnas irjen...   \n",
       "\n",
       "                                              TEXT.1  \\\n",
       "0  Repost Divisi Humas Polri Ketua Harian Kompoln...   \n",
       "1   ch chotimah2 aniesbaswedan abu waras rahmania...   \n",
       "2   jokowi Kinerja kepolisian blm menunjukan pres...   \n",
       "3   kompascom Ya Itulah Tabiat kepolisian di Indo...   \n",
       "4  RT DivHumas Polri Ketua Harian Kompolnas Irjen...   \n",
       "\n",
       "                                          TOKENISASI  \\\n",
       "0  ['repost', 'divisi', 'humas', 'polri', 'ketua'...   \n",
       "1  ['', 'ch', 'chotimah2', 'aniesbaswedan', 'abu'...   \n",
       "2  ['', 'jokowi', 'kinerja', 'kepolisian', 'blm',...   \n",
       "3  ['', 'kompascom', 'ya', 'itulah', 'tabiat', 'k...   \n",
       "4  ['rt', 'divhumas', 'polri', 'ketua', 'harian',...   \n",
       "\n",
       "                                        STOP_REMOVAL    label  polarity  \n",
       "0  repost divisi humas polri ketua harian kompoln...  positif         1  \n",
       "1   ch chotimah2 aniesbaswedan abu waras rahmania...  negatif        -1  \n",
       "2   jokowi kinerja kepolisian blm menunjukan pres...  negatif        -1  \n",
       "3   kompascom ya tabiat kepolisian indonesia mala...  negatif        -1  \n",
       "4  rt divhumas polri ketua harian kompolnas irjen...  positif         1  "
      ]
     },
     "execution_count": 5,
     "metadata": {},
     "output_type": "execute_result"
    }
   ],
   "source": [
    "df.head(5)"
   ]
  },
  {
   "cell_type": "code",
   "execution_count": 6,
   "id": "3adc7c98",
   "metadata": {},
   "outputs": [],
   "source": [
    "X = df['STOP_REMOVAL']\n",
    "y = df['polarity']"
   ]
  },
  {
   "cell_type": "code",
   "execution_count": 7,
   "id": "3a838efa",
   "metadata": {},
   "outputs": [
    {
     "name": "stdout",
     "output_type": "stream",
     "text": [
      "(88,)\n",
      "[[0 0 0 ... 0 0 0]\n",
      " [0 0 0 ... 0 0 0]\n",
      " [0 0 0 ... 0 0 0]\n",
      " ...\n",
      " [0 0 0 ... 0 0 0]\n",
      " [0 0 0 ... 0 0 0]\n",
      " [0 0 0 ... 1 0 0]]\n",
      "Shape of Sparse Matrix:  (88, 865)\n",
      "Amount of Non-Zero occurrences:  1660\n",
      "(88, 865)\n"
     ]
    }
   ],
   "source": [
    "bow_transformer = CountVectorizer()\n",
    "print(df['STOP_REMOVAL'].shape)\n",
    "X = bow_transformer.fit_transform(df['STOP_REMOVAL'])\n",
    "\n",
    "print(X.toarray())\n",
    "print('Shape of Sparse Matrix: ', X.shape)\n",
    "print('Amount of Non-Zero occurrences: ', X.nnz)\n",
    "\n",
    "filename1 = 'count_vector.pkl'\n",
    "pickle.dump(bow_transformer, open(filename1, 'wb'))\n",
    "\n",
    "tf_transform = TfidfTransformer(use_idf=False).fit(X)\n",
    "X = tf_transform.transform(X)\n",
    "print(X.shape)\n",
    "\n",
    "filename1 = 'tfid_transform.pkl'\n",
    "pickle.dump(bow_transformer, open(filename1, 'wb'))"
   ]
  },
  {
   "cell_type": "code",
   "execution_count": 8,
   "id": "2bb51f01",
   "metadata": {},
   "outputs": [],
   "source": [
    "X_train, X_test, y_train, y_test = train_test_split(\n",
    "\tX, y, test_size=0.2)\n",
    "#print(X_test)"
   ]
  },
  {
   "cell_type": "code",
   "execution_count": 9,
   "id": "c45c5327",
   "metadata": {},
   "outputs": [],
   "source": [
    "nb = MultinomialNB()\n",
    "nb.fit(X_train, y_train)\n",
    "pred = nb.predict(X_test)"
   ]
  },
  {
   "cell_type": "code",
   "execution_count": 10,
   "id": "d3007671",
   "metadata": {},
   "outputs": [
    {
     "name": "stdout",
     "output_type": "stream",
     "text": [
      "              precision    recall  f1-score   support\n",
      "\n",
      "          -1       1.00      0.25      0.40         8\n",
      "           1       0.62      1.00      0.77        10\n",
      "\n",
      "    accuracy                           0.67        18\n",
      "   macro avg       0.81      0.62      0.58        18\n",
      "weighted avg       0.79      0.67      0.61        18\n",
      "\n"
     ]
    }
   ],
   "source": [
    "print(classification_report(y_test, pred))"
   ]
  },
  {
   "cell_type": "code",
   "execution_count": 11,
   "id": "f529b458",
   "metadata": {},
   "outputs": [
    {
     "name": "stdout",
     "output_type": "stream",
     "text": [
      "[0.66666667 0.77777778 1.         0.77777778 0.66666667 0.77777778\n",
      " 0.77777778 0.55555556 0.75       0.625     ]\n"
     ]
    }
   ],
   "source": [
    "scores = cross_val_score(nb, X, y, cv=10)\n",
    "print(scores)"
   ]
  },
  {
   "cell_type": "code",
   "execution_count": 21,
   "id": "239e10e3",
   "metadata": {},
   "outputs": [
    {
     "name": "stdout",
     "output_type": "stream",
     "text": [
      "0.7375\n"
     ]
    }
   ],
   "source": [
    "print(scores.mean())"
   ]
  },
  {
   "cell_type": "code",
   "execution_count": 12,
   "id": "1913bebc",
   "metadata": {},
   "outputs": [],
   "source": [
    "from io import StringIO\n",
    "classification = classification_report(y_test, pred)\n",
    "s = StringIO(classification)\n",
    "with open('classification.csv', 'w') as f:\n",
    "    for line in s:\n",
    "        f.write(line)"
   ]
  },
  {
   "cell_type": "code",
   "execution_count": 13,
   "id": "0048f4ff",
   "metadata": {},
   "outputs": [
    {
     "name": "stdout",
     "output_type": "stream",
     "text": [
      "0.6666666666666666\n"
     ]
    }
   ],
   "source": [
    "print(accuracy_score(y_test, pred))"
   ]
  },
  {
   "cell_type": "code",
   "execution_count": 14,
   "id": "9d130628",
   "metadata": {},
   "outputs": [],
   "source": [
    "accuracy = accuracy_score(y_test, pred)\n",
    "a = np.asarray([accuracy])\n",
    "np.savetxt(\"accuracy.csv\", a, delimiter=\",\", fmt='%s')"
   ]
  },
  {
   "cell_type": "code",
   "execution_count": 15,
   "id": "6f809e9d",
   "metadata": {},
   "outputs": [
    {
     "data": {
      "text/html": [
       "<style>#sk-container-id-1 {color: black;background-color: white;}#sk-container-id-1 pre{padding: 0;}#sk-container-id-1 div.sk-toggleable {background-color: white;}#sk-container-id-1 label.sk-toggleable__label {cursor: pointer;display: block;width: 100%;margin-bottom: 0;padding: 0.3em;box-sizing: border-box;text-align: center;}#sk-container-id-1 label.sk-toggleable__label-arrow:before {content: \"▸\";float: left;margin-right: 0.25em;color: #696969;}#sk-container-id-1 label.sk-toggleable__label-arrow:hover:before {color: black;}#sk-container-id-1 div.sk-estimator:hover label.sk-toggleable__label-arrow:before {color: black;}#sk-container-id-1 div.sk-toggleable__content {max-height: 0;max-width: 0;overflow: hidden;text-align: left;background-color: #f0f8ff;}#sk-container-id-1 div.sk-toggleable__content pre {margin: 0.2em;color: black;border-radius: 0.25em;background-color: #f0f8ff;}#sk-container-id-1 input.sk-toggleable__control:checked~div.sk-toggleable__content {max-height: 200px;max-width: 100%;overflow: auto;}#sk-container-id-1 input.sk-toggleable__control:checked~label.sk-toggleable__label-arrow:before {content: \"▾\";}#sk-container-id-1 div.sk-estimator input.sk-toggleable__control:checked~label.sk-toggleable__label {background-color: #d4ebff;}#sk-container-id-1 div.sk-label input.sk-toggleable__control:checked~label.sk-toggleable__label {background-color: #d4ebff;}#sk-container-id-1 input.sk-hidden--visually {border: 0;clip: rect(1px 1px 1px 1px);clip: rect(1px, 1px, 1px, 1px);height: 1px;margin: -1px;overflow: hidden;padding: 0;position: absolute;width: 1px;}#sk-container-id-1 div.sk-estimator {font-family: monospace;background-color: #f0f8ff;border: 1px dotted black;border-radius: 0.25em;box-sizing: border-box;margin-bottom: 0.5em;}#sk-container-id-1 div.sk-estimator:hover {background-color: #d4ebff;}#sk-container-id-1 div.sk-parallel-item::after {content: \"\";width: 100%;border-bottom: 1px solid gray;flex-grow: 1;}#sk-container-id-1 div.sk-label:hover label.sk-toggleable__label {background-color: #d4ebff;}#sk-container-id-1 div.sk-serial::before {content: \"\";position: absolute;border-left: 1px solid gray;box-sizing: border-box;top: 0;bottom: 0;left: 50%;z-index: 0;}#sk-container-id-1 div.sk-serial {display: flex;flex-direction: column;align-items: center;background-color: white;padding-right: 0.2em;padding-left: 0.2em;position: relative;}#sk-container-id-1 div.sk-item {position: relative;z-index: 1;}#sk-container-id-1 div.sk-parallel {display: flex;align-items: stretch;justify-content: center;background-color: white;position: relative;}#sk-container-id-1 div.sk-item::before, #sk-container-id-1 div.sk-parallel-item::before {content: \"\";position: absolute;border-left: 1px solid gray;box-sizing: border-box;top: 0;bottom: 0;left: 50%;z-index: -1;}#sk-container-id-1 div.sk-parallel-item {display: flex;flex-direction: column;z-index: 1;position: relative;background-color: white;}#sk-container-id-1 div.sk-parallel-item:first-child::after {align-self: flex-end;width: 50%;}#sk-container-id-1 div.sk-parallel-item:last-child::after {align-self: flex-start;width: 50%;}#sk-container-id-1 div.sk-parallel-item:only-child::after {width: 0;}#sk-container-id-1 div.sk-dashed-wrapped {border: 1px dashed gray;margin: 0 0.4em 0.5em 0.4em;box-sizing: border-box;padding-bottom: 0.4em;background-color: white;}#sk-container-id-1 div.sk-label label {font-family: monospace;font-weight: bold;display: inline-block;line-height: 1.2em;}#sk-container-id-1 div.sk-label-container {text-align: center;}#sk-container-id-1 div.sk-container {/* jupyter's `normalize.less` sets `[hidden] { display: none; }` but bootstrap.min.css set `[hidden] { display: none !important; }` so we also need the `!important` here to be able to override the default hidden behavior on the sphinx rendered scikit-learn.org. See: https://github.com/scikit-learn/scikit-learn/issues/21755 */display: inline-block !important;position: relative;}#sk-container-id-1 div.sk-text-repr-fallback {display: none;}</style><div id=\"sk-container-id-1\" class=\"sk-top-container\"><div class=\"sk-text-repr-fallback\"><pre>LogisticRegression()</pre><b>In a Jupyter environment, please rerun this cell to show the HTML representation or trust the notebook. <br />On GitHub, the HTML representation is unable to render, please try loading this page with nbviewer.org.</b></div><div class=\"sk-container\" hidden><div class=\"sk-item\"><div class=\"sk-estimator sk-toggleable\"><input class=\"sk-toggleable__control sk-hidden--visually\" id=\"sk-estimator-id-1\" type=\"checkbox\" checked><label for=\"sk-estimator-id-1\" class=\"sk-toggleable__label sk-toggleable__label-arrow\">LogisticRegression</label><div class=\"sk-toggleable__content\"><pre>LogisticRegression()</pre></div></div></div></div></div>"
      ],
      "text/plain": [
       "LogisticRegression()"
      ]
     },
     "execution_count": 15,
     "metadata": {},
     "output_type": "execute_result"
    }
   ],
   "source": [
    "model = LogisticRegression()\n",
    "model.fit(X_train, y_train)"
   ]
  },
  {
   "cell_type": "code",
   "execution_count": 16,
   "id": "967ddfa8",
   "metadata": {},
   "outputs": [],
   "source": [
    "filename = 'model_analisis.pkl'\n",
    "pickle.dump(model, open(filename, 'wb'))"
   ]
  },
  {
   "cell_type": "code",
   "execution_count": 17,
   "id": "56c93b20",
   "metadata": {},
   "outputs": [
    {
     "name": "stdout",
     "output_type": "stream",
     "text": [
      "0.6111111111111112\n"
     ]
    }
   ],
   "source": [
    "loaded_model = pickle.load(open(filename, 'rb'))\n",
    "result = loaded_model.score(X_test, y_test)\n",
    "print(result)"
   ]
  },
  {
   "cell_type": "code",
   "execution_count": 18,
   "id": "d98cb5ed",
   "metadata": {},
   "outputs": [
    {
     "data": {
      "text/plain": [
       "array([ 1,  1,  1,  1,  1,  1,  1,  1,  1, -1,  1,  1,  1,  1,  1,  1,  1,\n",
       "        1], dtype=int64)"
      ]
     },
     "execution_count": 18,
     "metadata": {},
     "output_type": "execute_result"
    }
   ],
   "source": [
    "loaded_model.predict(X_test)"
   ]
  },
  {
   "cell_type": "code",
   "execution_count": null,
   "id": "61a3ba8c",
   "metadata": {},
   "outputs": [],
   "source": []
  },
  {
   "cell_type": "code",
   "execution_count": null,
   "id": "0ad835b9",
   "metadata": {},
   "outputs": [],
   "source": []
  }
 ],
 "metadata": {
  "kernelspec": {
   "display_name": "Python 3 (ipykernel)",
   "language": "python",
   "name": "python3"
  },
  "language_info": {
   "codemirror_mode": {
    "name": "ipython",
    "version": 3
   },
   "file_extension": ".py",
   "mimetype": "text/x-python",
   "name": "python",
   "nbconvert_exporter": "python",
   "pygments_lexer": "ipython3",
   "version": "3.9.7"
  }
 },
 "nbformat": 4,
 "nbformat_minor": 5
}
